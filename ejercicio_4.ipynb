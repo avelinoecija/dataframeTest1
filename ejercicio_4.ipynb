{
 "cells": [
  {
   "cell_type": "code",
   "execution_count": 1,
   "metadata": {},
   "outputs": [],
   "source": [
    "import pandas as pd\n",
    "import numpy as np\n",
    "import matplotlib.pyplot as plt\n",
    "import matplotlib.ticker as mtick\n",
    "from faker import Faker\n",
    "from matplotlib.backends.backend_pdf import PdfPages\n",
    "from matplotlib.ticker import MaxNLocator\n",
    "from collections import namedtuple\n",
    "import random\n",
    "from faker.providers import BaseProvider\n",
    "from faker import Factory\n",
    "import sys\n",
    "from pymongo import MongoClient\n",
    "from pprint import pprint\n",
    "client = MongoClient (\"mongodb://localhost:27017\")\n",
    "db = client.rios\n",
    "db.command(\"serverStatus\")\n",
    "rio = db.rio\n",
    "rio = pd.DataFrame(list(rio.find()))\n",
    "rio"
   ]
  },
  {
   "cell_type": "code",
   "execution_count": 3,
   "metadata": {},
   "outputs": [
    {
     "name": "stdout",
     "output_type": "stream",
     "text": [
      "         nombre  caudal\n",
      "0  Guadalquivir     340\n",
      "1      Guadiana     280\n",
      "2          Tajo     260\n",
      "3          Ebro     300\n",
      "4         Duero     400\n",
      "5          Miño     248\n",
      "6        Segura     256\n",
      "7         Jucar     321\n",
      "8         Turia     312\n",
      "9         Genil     385\n"
     ]
    },
    {
     "data": {
      "text/plain": [
       "<matplotlib.axes._subplots.AxesSubplot at 0x7fa59b26da20>"
      ]
     },
     "execution_count": 3,
     "metadata": {},
     "output_type": "execute_result"
    },
    {
     "data": {
      "image/png": "[encoded data removed]",
      "text/plain": [
       "<Figure size 432x288 with 1 Axes>"
      ]
     },
     "metadata": {
      "needs_background": "light"
     },
     "output_type": "display_data"
    }
   ],
   "source": [
    "df = pd.read_csv('rios2.csv')\n",
    "print(df)\n",
    "df.plot(kind='bar', x='nombre', y='caudal')"
   ]
  }
 ],
 "metadata": {
  "kernelspec": {
   "display_name": "Python 3",
   "language": "python",
   "name": "python3"
  },
  "language_info": {
   "codemirror_mode": {
    "name": "ipython",
    "version": 3
   },
   "file_extension": ".py",
   "mimetype": "text/x-python",
   "name": "python",
   "nbconvert_exporter": "python",
   "pygments_lexer": "ipython3",
   "version": "3.7.0"
  }
 },
 "nbformat": 4,
 "nbformat_minor": 2
}
