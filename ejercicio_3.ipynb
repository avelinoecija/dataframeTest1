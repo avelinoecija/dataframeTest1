{
 "cells": [
  {
   "cell_type": "code",
   "execution_count": 3,
   "metadata": {},
   "outputs": [],
   "source": [
    "import pandas as pd\n",
    "import numpy as np\n",
    "import matplotlib.pyplot as plt\n",
    "import matplotlib.ticker as mtick\n",
    "from faker import Faker\n",
    "from matplotlib.backends.backend_pdf import PdfPages\n",
    "from matplotlib.ticker import MaxNLocator\n",
    "from collections import namedtuple\n",
    "import random\n",
    "from faker.providers import BaseProvider\n",
    "from faker import Factory"
   ]
  },
  {
   "cell_type": "code",
   "execution_count": 67,
   "metadata": {},
   "outputs": [
    {
     "name": "stdout",
     "output_type": "stream",
     "text": [
      "   Superficie Articulo  Precio           CA  Renta\n",
      "0   Mercadona     agua    0.25    Andalucia   1290\n",
      "1   Mercadona      pan    0.20    ClaMancha   1120\n",
      "2   Mercadona    leche    0.40  Extremadura   1000\n",
      "3        Lidl     agua    0.30       Madrid   3000\n",
      "4        Lidl      pan    0.30       CyLeon   1400\n",
      "5        Lidl    leche    0.35       Murcia   1107\n",
      "6   Carrefour     agua    0.20     Valencia   1580\n",
      "7   Carrefour      pan    0.15       Aragon   1300\n",
      "8   Carrefour    leche    0.30     Cataluña   2500\n",
      "9        Aldi     agua    0.40      Galicia   1200\n",
      "10       Aldi      pan    0.30     Asturias   1220\n",
      "11       Aldi    leche    0.50    Cantabria   1500\n",
      "12    Alcampo     agua    0.35      Euskadi   2800\n",
      "13    Alcampo      pan    0.25      Navarra   2700\n",
      "14    Alcampo    leche    0.45        Rioja   1115\n",
      "15     Eroski     agua    0.38        Ceuta   1108\n",
      "16     Eroski      pan    0.27      Melilla   1105\n",
      "17     Eroski    leche    0.52     Canarias   1110\n"
     ]
    },
    {
     "data": {
      "text/plain": [
       "<matplotlib.axes._subplots.AxesSubplot at 0x7f1151d13828>"
      ]
     },
     "execution_count": 67,
     "metadata": {},
     "output_type": "execute_result"
    },
    {
     "data": {
      "image/png": "[encoded data removed]",
      "text/plain": [
       "<Figure size 432x288 with 1 Axes>"
      ]
     },
     "metadata": {
      "needs_background": "light"
     },
     "output_type": "display_data"
    },
    {
     "data": {
      "image/png": "[encoded data removed]",
      "text/plain": [
       "<Figure size 432x288 with 1 Axes>"
      ]
     },
     "metadata": {
      "needs_background": "light"
     },
     "output_type": "display_data"
    }
   ],
   "source": [
    "df = pd.read_csv('datos.csv')\n",
    "print(df)\n",
    "df.plot(kind='bar', x='CA', y='Renta')\n",
    "df.plot(kind='bar', x='Superficie', y='Precio')"
   ]
  },
  {
   "cell_type": "code",
   "execution_count": 52,
   "metadata": {
    "scrolled": true
   },
   "outputs": [
    {
     "name": "stdout",
     "output_type": "stream",
     "text": [
      "pan\n",
      "Aragon\n",
      "0.15\n",
      "1300\n",
      "Carrefour\n",
      "agua\n",
      "Madrid\n",
      "0.3\n",
      "3000\n",
      "Lidl\n"
     ]
    }
   ],
   "source": [
    "df2 = []\n",
    "for index, row in df.iterrows():\n",
    "    df2.append({'Superficie': row['Superficie'], 'Articulo': row['Articulo'], 'Precio': row['Precio'], 'CA': row['CA'], 'Renta': row['Renta']})\n",
    "    pd.DataFrame(df2)\n",
    "    df3 = pd.DataFrame.from_dict(df2)\n",
    "    df4 = df3.loc[df3['Precio'].idxmin()]\n",
    "    df5 = df3.loc[df3['Renta'].idxmax()]\n",
    "for item in df4:\n",
    "    print (item)\n",
    "def Tup(item):\n",
    "    return (item)\n",
    "mejorPrecio = Tup(df4)[2]\n",
    "artPrecio = Tup(df4)[0]\n",
    "superPrecio = Tup(df4)[4]\n",
    "for item2 in df5:\n",
    "    print(item2)\n",
    "def Tup2(item2):\n",
    "    return (item2)\n",
    "CARentaMasAlta = Tup2(df5)[1]\n",
    "RentaMasAlta = Tup2(df5)[3]"
   ]
  },
  {
   "cell_type": "code",
   "execution_count": 56,
   "metadata": {},
   "outputs": [
    {
     "data": {
      "text/html": [
       "<div>\n",
       "<style scoped>\n",
       "    .dataframe tbody tr th:only-of-type {\n",
       "        vertical-align: middle;\n",
       "    }\n",
       "\n",
       "    .dataframe tbody tr th {\n",
       "        vertical-align: top;\n",
       "    }\n",
       "\n",
       "    .dataframe thead th {\n",
       "        text-align: right;\n",
       "    }\n",
       "</style>\n",
       "<table border=\"1\" class=\"dataframe\">\n",
       "  <thead>\n",
       "    <tr style=\"text-align: right;\">\n",
       "      <th></th>\n",
       "      <th>Precio</th>\n",
       "      <th>Articulo</th>\n",
       "      <th>Superficie</th>\n",
       "      <th>CA</th>\n",
       "      <th>Renta</th>\n",
       "    </tr>\n",
       "  </thead>\n",
       "  <tbody>\n",
       "    <tr>\n",
       "      <th>0</th>\n",
       "      <td>0.15</td>\n",
       "      <td>pan</td>\n",
       "      <td>Carrefour</td>\n",
       "      <td>Madrid</td>\n",
       "      <td>3000</td>\n",
       "    </tr>\n",
       "  </tbody>\n",
       "</table>\n",
       "</div>"
      ],
      "text/plain": [
       "   Precio Articulo Superficie      CA  Renta\n",
       "0    0.15      pan  Carrefour  Madrid   3000"
      ]
     },
     "execution_count": 56,
     "metadata": {},
     "output_type": "execute_result"
    }
   ],
   "source": [
    "df = pd.DataFrame({'Precio': [mejorPrecio], 'Articulo': [artPrecio], 'Superficie': [superPrecio], 'CA': [CARentaMasAlta], 'Renta': [RentaMasAlta] })\n",
    "nuevoDF"
   ]
  }
 ],
 "metadata": {
  "kernelspec": {
   "display_name": "Python 3",
   "language": "python",
   "name": "python3"
  },
  "language_info": {
   "codemirror_mode": {
    "name": "ipython",
    "version": 3
   },
   "file_extension": ".py",
   "mimetype": "text/x-python",
   "name": "python",
   "nbconvert_exporter": "python",
   "pygments_lexer": "ipython3",
   "version": "3.7.0"
  }
 },
 "nbformat": 4,
 "nbformat_minor": 2
}
