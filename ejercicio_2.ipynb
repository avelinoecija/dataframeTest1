{
 "cells": [
  {
   "cell_type": "code",
   "execution_count": 1,
   "metadata": {},
   "outputs": [],
   "source": [
    "import pandas as pd\n",
    "import numpy as np\n",
    "import matplotlib.pyplot as plt\n",
    "import matplotlib.ticker as mtick\n",
    "from faker import Faker\n",
    "from matplotlib.backends.backend_pdf import PdfPages\n",
    "from matplotlib.ticker import MaxNLocator\n",
    "from collections import namedtuple\n",
    "import random\n",
    "from faker.providers import BaseProvider\n",
    "from faker import Factory"
   ]
  },
  {
   "cell_type": "code",
   "execution_count": 2,
   "metadata": {},
   "outputs": [
    {
     "data": {
      "text/html": [
       "<div>\n",
       "<style scoped>\n",
       "    .dataframe tbody tr th:only-of-type {\n",
       "        vertical-align: middle;\n",
       "    }\n",
       "\n",
       "    .dataframe tbody tr th {\n",
       "        vertical-align: top;\n",
       "    }\n",
       "\n",
       "    .dataframe thead th {\n",
       "        text-align: right;\n",
       "    }\n",
       "</style>\n",
       "<table border=\"1\" class=\"dataframe\">\n",
       "  <thead>\n",
       "    <tr style=\"text-align: right;\">\n",
       "      <th></th>\n",
       "      <th>Player</th>\n",
       "      <th>2-Point FG</th>\n",
       "      <th>Unnamed: 2</th>\n",
       "      <th>3-Point FG</th>\n",
       "      <th>Unnamed: 4</th>\n",
       "      <th>Free Throw</th>\n",
       "      <th>Unnamed: 6</th>\n",
       "      <th>Rebounds</th>\n",
       "      <th>Unnamed: 8</th>\n",
       "      <th>Assists</th>\n",
       "      <th>Steals</th>\n",
       "      <th>Blocks</th>\n",
       "      <th>Turnovers</th>\n",
       "      <th>Fouls</th>\n",
       "      <th>Position</th>\n",
       "      <th>Salary</th>\n",
       "      <th>Age</th>\n",
       "      <th>Team</th>\n",
       "      <th>Height</th>\n",
       "    </tr>\n",
       "  </thead>\n",
       "  <tbody>\n",
       "    <tr>\n",
       "      <th>0</th>\n",
       "      <td>NaN</td>\n",
       "      <td>NaN</td>\n",
       "      <td>NaN</td>\n",
       "      <td>NaN</td>\n",
       "      <td>NaN</td>\n",
       "      <td>NaN</td>\n",
       "      <td>NaN</td>\n",
       "      <td>NaN</td>\n",
       "      <td>NaN</td>\n",
       "      <td>NaN</td>\n",
       "      <td>NaN</td>\n",
       "      <td>NaN</td>\n",
       "      <td>NaN</td>\n",
       "      <td>NaN</td>\n",
       "      <td>NaN</td>\n",
       "      <td>NaN</td>\n",
       "      <td>NaN</td>\n",
       "      <td>NaN</td>\n",
       "      <td>NaN</td>\n",
       "    </tr>\n",
       "    <tr>\n",
       "      <th>1</th>\n",
       "      <td>S. Curry</td>\n",
       "      <td>237.0</td>\n",
       "      <td>NaN</td>\n",
       "      <td>126.0</td>\n",
       "      <td>NaN</td>\n",
       "      <td>52.0</td>\n",
       "      <td>NaN</td>\n",
       "      <td>54.0</td>\n",
       "      <td>NaN</td>\n",
       "      <td>73.0</td>\n",
       "      <td>13.0</td>\n",
       "      <td>5.0</td>\n",
       "      <td>36.0</td>\n",
       "      <td>28.0</td>\n",
       "      <td>Base</td>\n",
       "      <td>37,46M</td>\n",
       "      <td>30.0</td>\n",
       "      <td>GSW</td>\n",
       "      <td>190.0</td>\n",
       "    </tr>\n",
       "    <tr>\n",
       "      <th>2</th>\n",
       "      <td>J. Embiid</td>\n",
       "      <td>299.0</td>\n",
       "      <td>NaN</td>\n",
       "      <td>70.0</td>\n",
       "      <td>NaN</td>\n",
       "      <td>171.0</td>\n",
       "      <td>NaN</td>\n",
       "      <td>178.0</td>\n",
       "      <td>NaN</td>\n",
       "      <td>63.0</td>\n",
       "      <td>4.0</td>\n",
       "      <td>34.0</td>\n",
       "      <td>48.0</td>\n",
       "      <td>55.0</td>\n",
       "      <td>Pívot</td>\n",
       "      <td>6,1M</td>\n",
       "      <td>24.0</td>\n",
       "      <td>PHI</td>\n",
       "      <td>213.0</td>\n",
       "    </tr>\n",
       "    <tr>\n",
       "      <th>3</th>\n",
       "      <td>L. James</td>\n",
       "      <td>269.0</td>\n",
       "      <td>NaN</td>\n",
       "      <td>82.0</td>\n",
       "      <td>NaN</td>\n",
       "      <td>106.0</td>\n",
       "      <td>NaN</td>\n",
       "      <td>96.0</td>\n",
       "      <td>NaN</td>\n",
       "      <td>101.0</td>\n",
       "      <td>21.0</td>\n",
       "      <td>12.0</td>\n",
       "      <td>46.0</td>\n",
       "      <td>25.0</td>\n",
       "      <td>Alero</td>\n",
       "      <td>35,56M</td>\n",
       "      <td>34.0</td>\n",
       "      <td>LAL</td>\n",
       "      <td>203.0</td>\n",
       "    </tr>\n",
       "    <tr>\n",
       "      <th>4</th>\n",
       "      <td>K. Durant</td>\n",
       "      <td>277.0</td>\n",
       "      <td>NaN</td>\n",
       "      <td>54.0</td>\n",
       "      <td>NaN</td>\n",
       "      <td>105.0</td>\n",
       "      <td>NaN</td>\n",
       "      <td>107.0</td>\n",
       "      <td>NaN</td>\n",
       "      <td>99.0</td>\n",
       "      <td>15.0</td>\n",
       "      <td>12.0</td>\n",
       "      <td>43.0</td>\n",
       "      <td>26.0</td>\n",
       "      <td>Pivot</td>\n",
       "      <td>26,54M</td>\n",
       "      <td>30.0</td>\n",
       "      <td>GSW</td>\n",
       "      <td>206.0</td>\n",
       "    </tr>\n",
       "    <tr>\n",
       "      <th>5</th>\n",
       "      <td>J. Harden</td>\n",
       "      <td>193.0</td>\n",
       "      <td>NaN</td>\n",
       "      <td>111.0</td>\n",
       "      <td>NaN</td>\n",
       "      <td>90.0</td>\n",
       "      <td>NaN</td>\n",
       "      <td>50.0</td>\n",
       "      <td>NaN</td>\n",
       "      <td>77.0</td>\n",
       "      <td>24.0</td>\n",
       "      <td>8.0</td>\n",
       "      <td>53.0</td>\n",
       "      <td>31.0</td>\n",
       "      <td>Base</td>\n",
       "      <td>28,3M</td>\n",
       "      <td>29.0</td>\n",
       "      <td>HR</td>\n",
       "      <td>196.0</td>\n",
       "    </tr>\n",
       "    <tr>\n",
       "      <th>6</th>\n",
       "      <td>B. Griffin</td>\n",
       "      <td>243.0</td>\n",
       "      <td>NaN</td>\n",
       "      <td>77.0</td>\n",
       "      <td>NaN</td>\n",
       "      <td>90.0</td>\n",
       "      <td>NaN</td>\n",
       "      <td>111.0</td>\n",
       "      <td>NaN</td>\n",
       "      <td>63.0</td>\n",
       "      <td>12.0</td>\n",
       "      <td>8.0</td>\n",
       "      <td>45.0</td>\n",
       "      <td>40.0</td>\n",
       "      <td>Alero</td>\n",
       "      <td>29,7M</td>\n",
       "      <td>29.0</td>\n",
       "      <td>DP</td>\n",
       "      <td>208.0</td>\n",
       "    </tr>\n",
       "  </tbody>\n",
       "</table>\n",
       "</div>"
      ],
      "text/plain": [
       "       Player  2-Point FG  Unnamed: 2  3-Point FG  Unnamed: 4  Free Throw  \\\n",
       "0         NaN         NaN         NaN         NaN         NaN         NaN   \n",
       "1    S. Curry       237.0         NaN       126.0         NaN        52.0   \n",
       "2   J. Embiid       299.0         NaN        70.0         NaN       171.0   \n",
       "3    L. James       269.0         NaN        82.0         NaN       106.0   \n",
       "4   K. Durant       277.0         NaN        54.0         NaN       105.0   \n",
       "5   J. Harden       193.0         NaN       111.0         NaN        90.0   \n",
       "6  B. Griffin       243.0         NaN        77.0         NaN        90.0   \n",
       "\n",
       "   Unnamed: 6  Rebounds  Unnamed: 8  Assists  Steals  Blocks  Turnovers  \\\n",
       "0         NaN       NaN         NaN      NaN     NaN     NaN        NaN   \n",
       "1         NaN      54.0         NaN     73.0    13.0     5.0       36.0   \n",
       "2         NaN     178.0         NaN     63.0     4.0    34.0       48.0   \n",
       "3         NaN      96.0         NaN    101.0    21.0    12.0       46.0   \n",
       "4         NaN     107.0         NaN     99.0    15.0    12.0       43.0   \n",
       "5         NaN      50.0         NaN     77.0    24.0     8.0       53.0   \n",
       "6         NaN     111.0         NaN     63.0    12.0     8.0       45.0   \n",
       "\n",
       "   Fouls Position  Salary   Age Team  Height  \n",
       "0    NaN      NaN     NaN   NaN  NaN     NaN  \n",
       "1   28.0     Base  37,46M  30.0  GSW   190.0  \n",
       "2   55.0    Pívot    6,1M  24.0  PHI   213.0  \n",
       "3   25.0    Alero  35,56M  34.0  LAL   203.0  \n",
       "4   26.0    Pivot  26,54M  30.0  GSW   206.0  \n",
       "5   31.0     Base   28,3M  29.0   HR   196.0  \n",
       "6   40.0    Alero   29,7M  29.0   DP   208.0  "
      ]
     },
     "execution_count": 2,
     "metadata": {},
     "output_type": "execute_result"
    }
   ],
   "source": [
    "xls_file = pd.ExcelFile('stats.xlsx')\n",
    "xls_file\n",
    "xls_file.sheet_names\n",
    "df = xls_file.parse('Hoja1')\n",
    "df"
   ]
  },
  {
   "cell_type": "code",
   "execution_count": 3,
   "metadata": {},
   "outputs": [
    {
     "data": {
      "image/png": "[encoded data removed]",
      "text/plain": [
       "<Figure size 432x288 with 1 Axes>"
      ]
     },
     "metadata": {
      "needs_background": "light"
     },
     "output_type": "display_data"
    }
   ],
   "source": [
    "df.plot.bar();"
   ]
  },
  {
   "cell_type": "code",
   "execution_count": 4,
   "metadata": {},
   "outputs": [
    {
     "name": "stdout",
     "output_type": "stream",
     "text": [
      "      Jugador Posicion  Rebotes Salario\n",
      "0         NaN      NaN      NaN     NaN\n",
      "1    S. Curry     Base     54.0  37,46M\n",
      "2   J. Embiid    Pívot    178.0    6,1M\n",
      "3    L. James    Alero     96.0  35,56M\n",
      "4   K. Durant    Pivot    107.0  26,54M\n",
      "5   J. Harden     Base     50.0   28,3M\n",
      "6  B. Griffin    Alero    111.0   29,7M\n"
     ]
    },
    {
     "data": {
      "text/plain": [
       "Jugador     J. Embiid\n",
       "Posicion        Pívot\n",
       "Rebotes           178\n",
       "Salario          6,1M\n",
       "Name: 2, dtype: object"
      ]
     },
     "execution_count": 4,
     "metadata": {},
     "output_type": "execute_result"
    },
    {
     "data": {
      "image/png": "[encoded data removed]",
      "text/plain": [
       "<Figure size 432x288 with 1 Axes>"
      ]
     },
     "metadata": {
      "needs_background": "light"
     },
     "output_type": "display_data"
    }
   ],
   "source": [
    "df2 = []\n",
    "for index, row in df.iterrows():\n",
    "    #plt.plot(row['Player'], row['Position'], row['Rebounds'], row['Salary'])\n",
    "    df2.append({'Jugador': row['Player'], 'Posicion': row['Position'], 'Rebotes': row['Rebounds'], 'Salario': row['Salary']})\n",
    "    #print (row['Player'], row['Position'], row['Rebounds'], row['Salary'])\n",
    "pd.DataFrame(df2)\n",
    "df3 = pd.DataFrame.from_dict(df2)\n",
    "df3\n",
    "print(df3)\n",
    "df3.plot.bar()\n",
    "df3.loc[df3['Rebotes'].idxmax()]"
   ]
  },
  {
   "cell_type": "code",
   "execution_count": 5,
   "metadata": {},
   "outputs": [
    {
     "name": "stdout",
     "output_type": "stream",
     "text": [
      "      Jugador Posicion Salario  Tiros de 2\n",
      "0         NaN      NaN     NaN         NaN\n",
      "1    S. Curry     Base  37,46M       237.0\n",
      "2   J. Embiid    Pívot    6,1M       299.0\n",
      "3    L. James    Alero  35,56M       269.0\n",
      "4   K. Durant    Pivot  26,54M       277.0\n",
      "5   J. Harden     Base   28,3M       193.0\n",
      "6  B. Griffin    Alero   29,7M       243.0\n"
     ]
    },
    {
     "data": {
      "text/plain": [
       "Jugador       J. Embiid\n",
       "Posicion          Pívot\n",
       "Salario            6,1M\n",
       "Tiros de 2          299\n",
       "Name: 2, dtype: object"
      ]
     },
     "execution_count": 5,
     "metadata": {},
     "output_type": "execute_result"
    },
    {
     "data": {
      "image/png": "[encoded data removed]",
      "text/plain": [
       "<Figure size 432x288 with 1 Axes>"
      ]
     },
     "metadata": {
      "needs_background": "light"
     },
     "output_type": "display_data"
    }
   ],
   "source": [
    "df2 = []\n",
    "for index, row in df.iterrows():\n",
    "    #plt.plot(row['Player'], row['Position'], row['Rebounds'], row['Salary'])\n",
    "    df2.append({'Jugador': row['Player'], 'Posicion': row['Position'], 'Tiros de 2': row['2-Point FG'], 'Salario': row['Salary']})\n",
    "    #print (row['Player'], row['Position'], row['Rebounds'], row['Salary'])\n",
    "pd.DataFrame(df2)\n",
    "df3 = pd.DataFrame.from_dict(df2)\n",
    "df3\n",
    "print(df3)\n",
    "df3.plot.bar()\n",
    "df3.loc[df3['Tiros de 2'].idxmax()]"
   ]
  },
  {
   "cell_type": "code",
   "execution_count": 6,
   "metadata": {},
   "outputs": [
    {
     "name": "stdout",
     "output_type": "stream",
     "text": [
      "      Jugador Posicion Salario  Triples\n",
      "0         NaN      NaN     NaN      NaN\n",
      "1    S. Curry     Base  37,46M    126.0\n",
      "2   J. Embiid    Pívot    6,1M     70.0\n",
      "3    L. James    Alero  35,56M     82.0\n",
      "4   K. Durant    Pivot  26,54M     54.0\n",
      "5   J. Harden     Base   28,3M    111.0\n",
      "6  B. Griffin    Alero   29,7M     77.0\n"
     ]
    },
    {
     "data": {
      "text/plain": [
       "Jugador     S. Curry\n",
       "Posicion        Base\n",
       "Salario       37,46M\n",
       "Triples          126\n",
       "Name: 1, dtype: object"
      ]
     },
     "execution_count": 6,
     "metadata": {},
     "output_type": "execute_result"
    },
    {
     "data": {
      "image/png": "[encoded data removed]",
      "text/plain": [
       "<Figure size 432x288 with 1 Axes>"
      ]
     },
     "metadata": {
      "needs_background": "light"
     },
     "output_type": "display_data"
    }
   ],
   "source": [
    "df2 = []\n",
    "for index, row in df.iterrows():\n",
    "    #plt.plot(row['Player'], row['Position'], row['Rebounds'], row['Salary'])\n",
    "    df2.append({'Jugador': row['Player'], 'Posicion': row['Position'], 'Triples': row['3-Point FG'], 'Salario': row['Salary']})\n",
    "    #print (row['Player'], row['Position'], row['Rebounds'], row['Salary'])\n",
    "pd.DataFrame(df2)\n",
    "df3 = pd.DataFrame.from_dict(df2)\n",
    "df3\n",
    "print(df3)\n",
    "df3.plot.bar()\n",
    "df3.loc[df3['Triples'].idxmax()]"
   ]
  },
  {
   "cell_type": "code",
   "execution_count": 7,
   "metadata": {},
   "outputs": [
    {
     "name": "stdout",
     "output_type": "stream",
     "text": [
      "      Jugador Posicion Salario  Tiros libres\n",
      "0         NaN      NaN     NaN           NaN\n",
      "1    S. Curry     Base  37,46M          52.0\n",
      "2   J. Embiid    Pívot    6,1M         171.0\n",
      "3    L. James    Alero  35,56M         106.0\n",
      "4   K. Durant    Pivot  26,54M         105.0\n",
      "5   J. Harden     Base   28,3M          90.0\n",
      "6  B. Griffin    Alero   29,7M          90.0\n"
     ]
    },
    {
     "data": {
      "text/plain": [
       "Jugador         J. Embiid\n",
       "Posicion            Pívot\n",
       "Salario              6,1M\n",
       "Tiros libres          171\n",
       "Name: 2, dtype: object"
      ]
     },
     "execution_count": 7,
     "metadata": {},
     "output_type": "execute_result"
    },
    {
     "data": {
      "image/png": "[encoded data removed]",
      "text/plain": [
       "<Figure size 432x288 with 1 Axes>"
      ]
     },
     "metadata": {
      "needs_background": "light"
     },
     "output_type": "display_data"
    }
   ],
   "source": [
    "df2 = []\n",
    "for index, row in df.iterrows():\n",
    "    #plt.plot(row['Player'], row['Position'], row['Rebounds'], row['Salary'])\n",
    "    df2.append({'Jugador': row['Player'], 'Posicion': row['Position'], 'Tiros libres': row['Free Throw'], 'Salario': row['Salary']})\n",
    "    #print (row['Player'], row['Position'], row['Rebounds'], row['Salary'])\n",
    "pd.DataFrame(df2)\n",
    "df3 = pd.DataFrame.from_dict(df2)\n",
    "df3\n",
    "print(df3)\n",
    "df3.plot.bar()\n",
    "df3.loc[df3['Tiros libres'].idxmax()]"
   ]
  },
  {
   "cell_type": "code",
   "execution_count": 8,
   "metadata": {},
   "outputs": [
    {
     "name": "stdout",
     "output_type": "stream",
     "text": [
      "   Asistencias     Jugador Posicion Salario\n",
      "0          NaN         NaN      NaN     NaN\n",
      "1         73.0    S. Curry     Base  37,46M\n",
      "2         63.0   J. Embiid    Pívot    6,1M\n",
      "3        101.0    L. James    Alero  35,56M\n",
      "4         99.0   K. Durant    Pivot  26,54M\n",
      "5         77.0   J. Harden     Base   28,3M\n",
      "6         63.0  B. Griffin    Alero   29,7M\n"
     ]
    },
    {
     "data": {
      "text/plain": [
       "Asistencias         101\n",
       "Jugador        L. James\n",
       "Posicion          Alero\n",
       "Salario          35,56M\n",
       "Name: 3, dtype: object"
      ]
     },
     "execution_count": 8,
     "metadata": {},
     "output_type": "execute_result"
    },
    {
     "data": {
      "image/png": "[encoded data removed]",
      "text/plain": [
       "<Figure size 432x288 with 1 Axes>"
      ]
     },
     "metadata": {
      "needs_background": "light"
     },
     "output_type": "display_data"
    }
   ],
   "source": [
    "df2 = []\n",
    "for index, row in df.iterrows():\n",
    "    #plt.plot(row['Player'], row['Position'], row['Rebounds'], row['Salary'])\n",
    "    df2.append({'Jugador': row['Player'], 'Posicion': row['Position'], 'Asistencias': row['Assists'], 'Salario': row['Salary']})\n",
    "    #print (row['Player'], row['Position'], row['Rebounds'], row['Salary'])\n",
    "pd.DataFrame(df2)\n",
    "df3 = pd.DataFrame.from_dict(df2)\n",
    "df3\n",
    "print(df3)\n",
    "df3.plot.bar()\n",
    "df3.loc[df3['Asistencias'].idxmax()]"
   ]
  },
  {
   "cell_type": "code",
   "execution_count": 9,
   "metadata": {},
   "outputs": [
    {
     "name": "stdout",
     "output_type": "stream",
     "text": [
      "      Jugador Posicion  Robos Salario\n",
      "0         NaN      NaN    NaN     NaN\n",
      "1    S. Curry     Base   13.0  37,46M\n",
      "2   J. Embiid    Pívot    4.0    6,1M\n",
      "3    L. James    Alero   21.0  35,56M\n",
      "4   K. Durant    Pivot   15.0  26,54M\n",
      "5   J. Harden     Base   24.0   28,3M\n",
      "6  B. Griffin    Alero   12.0   29,7M\n"
     ]
    },
    {
     "data": {
      "text/plain": [
       "Jugador     J. Harden\n",
       "Posicion         Base\n",
       "Robos              24\n",
       "Salario         28,3M\n",
       "Name: 5, dtype: object"
      ]
     },
     "execution_count": 9,
     "metadata": {},
     "output_type": "execute_result"
    },
    {
     "data": {
      "image/png": "[encoded data removed]",
      "text/plain": [
       "<Figure size 432x288 with 1 Axes>"
      ]
     },
     "metadata": {
      "needs_background": "light"
     },
     "output_type": "display_data"
    }
   ],
   "source": [
    "df2 = []\n",
    "for index, row in df.iterrows():\n",
    "    #plt.plot(row['Player'], row['Position'], row['Rebounds'], row['Salary'])\n",
    "    df2.append({'Jugador': row['Player'], 'Posicion': row['Position'], 'Robos': row['Steals'], 'Salario': row['Salary']})\n",
    "    #print (row['Player'], row['Position'], row['Rebounds'], row['Salary'])\n",
    "pd.DataFrame(df2)\n",
    "df3 = pd.DataFrame.from_dict(df2)\n",
    "df3\n",
    "print(df3)\n",
    "df3.plot.bar()\n",
    "df3.loc[df3['Robos'].idxmax()]"
   ]
  },
  {
   "cell_type": "code",
   "execution_count": 10,
   "metadata": {},
   "outputs": [
    {
     "name": "stdout",
     "output_type": "stream",
     "text": [
      "   Bloqueos     Jugador Posicion Salario\n",
      "0       NaN         NaN      NaN     NaN\n",
      "1       5.0    S. Curry     Base  37,46M\n",
      "2      34.0   J. Embiid    Pívot    6,1M\n",
      "3      12.0    L. James    Alero  35,56M\n",
      "4      12.0   K. Durant    Pivot  26,54M\n",
      "5       8.0   J. Harden     Base   28,3M\n",
      "6       8.0  B. Griffin    Alero   29,7M\n"
     ]
    },
    {
     "data": {
      "text/plain": [
       "Bloqueos           34\n",
       "Jugador     J. Embiid\n",
       "Posicion        Pívot\n",
       "Salario          6,1M\n",
       "Name: 2, dtype: object"
      ]
     },
     "execution_count": 10,
     "metadata": {},
     "output_type": "execute_result"
    },
    {
     "data": {
      "image/png": "[encoded data removed]",
      "text/plain": [
       "<Figure size 432x288 with 1 Axes>"
      ]
     },
     "metadata": {
      "needs_background": "light"
     },
     "output_type": "display_data"
    }
   ],
   "source": [
    "df2 = []\n",
    "for index, row in df.iterrows():\n",
    "    #plt.plot(row['Player'], row['Position'], row['Rebounds'], row['Salary'])\n",
    "    df2.append({'Jugador': row['Player'], 'Posicion': row['Position'], 'Bloqueos': row['Blocks'], 'Salario': row['Salary']})\n",
    "    #print (row['Player'], row['Position'], row['Rebounds'], row['Salary'])\n",
    "pd.DataFrame(df2)\n",
    "df3 = pd.DataFrame.from_dict(df2)\n",
    "df3\n",
    "print(df3)\n",
    "df3.plot.bar()\n",
    "df3.loc[df3['Bloqueos'].idxmax()]"
   ]
  }
 ],
 "metadata": {
  "kernelspec": {
   "display_name": "Python 3",
   "language": "python",
   "name": "python3"
  },
  "language_info": {
   "codemirror_mode": {
    "name": "ipython",
    "version": 3
   },
   "file_extension": ".py",
   "mimetype": "text/x-python",
   "name": "python",
   "nbconvert_exporter": "python",
   "pygments_lexer": "ipython3",
   "version": "3.7.0"
  }
 },
 "nbformat": 4,
 "nbformat_minor": 2
}
